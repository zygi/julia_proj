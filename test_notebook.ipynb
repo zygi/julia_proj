{
 "cells": [
  {
   "cell_type": "code",
   "execution_count": 1,
   "metadata": {},
   "outputs": [],
   "source": [
    "include(\"helpers.jl\")\n",
    "\n",
    "using Revise\n",
    "using SparseArrays\n",
    "using LinearAlgebra\n",
    "\n",
    "using JuMP\n",
    "import SparseArrays\n",
    "using LinearAlgebra\n",
    "import Convex\n",
    "using SCIP\n",
    "using HiGHS\n",
    "using Pipe: @pipe\n",
    "using DataFrames\n",
    "import CSV"
   ]
  },
  {
   "cell_type": "code",
   "execution_count": 2,
   "metadata": {},
   "outputs": [
    {
     "data": {
      "text/plain": [
       "\"QAPN6LP_5.lp\""
      ]
     },
     "metadata": {},
     "output_type": "display_data"
    }
   ],
   "source": [
    "\n",
    "\n",
    "NUM_VERTS = 6\n",
    "# NUM_VERTS = 9\n",
    "\n",
    "filepath = \"QAPN6LP_5.lp\""
   ]
  },
  {
   "cell_type": "code",
   "execution_count": null,
   "metadata": {},
   "outputs": [],
   "source": [
    "# read the model from the LP file and convert it into normal form A x == b ; x >= 0\n",
    "# slack variables are added if necessary, but they're only needed for the new y-var extension\n",
    "\n",
    "m = JuMP.read_from_file(filepath)\n",
    "A, b, var_names = really_normal_form(m)"
   ]
  },
  {
   "cell_type": "code",
   "execution_count": null,
   "metadata": {},
   "outputs": [],
   "source": [
    "var_idx_tuples = var_name_to_tuple.(var_names)\n",
    "var_idx_tuple_lookup = Dict(var_idx_tuples[i] => i for i in 1:length(var_names))"
   ]
  },
  {
   "cell_type": "code",
   "execution_count": null,
   "metadata": {},
   "outputs": [],
   "source": [
    "# generate the \"standard\" extreme points to the polytope, one for each valid TSP path. This code uses a sparse method\n",
    "# for efficiency but in principle this can be achieved by iterating through all m! paths, generating an objective function for each \n",
    "# path, solving the LP with it and recording the solution.\n",
    "sparse_points = SparseArrays.sparse(compute_verts(NUM_VERTS - 1)..., factorial(NUM_VERTS - 1), length(var_idx_tuples))\n",
    "\n",
    "# Verify that these points all satisfy the constraints\n",
    "@assert norm(A * sparse_points' .- b) < 1e-9\n",
    "\n"
   ]
  },
  {
   "cell_type": "code",
   "execution_count": null,
   "metadata": {},
   "outputs": [],
   "source": [
    "# for visualization, display the standard points\n",
    "df = DataFrame(Tables.table(sparse_points; header=var_names))\n",
    "CSV.write(\"output/standard_points.csv\", df)\n",
    "df"
   ]
  },
  {
   "cell_type": "code",
   "execution_count": null,
   "metadata": {},
   "outputs": [],
   "source": [
    "# this is the function that finds candidate nonintegral extreme points.\n",
    "# as an input it takes a list of standard extreme point indices, whose weights we'll set to -1 and then try to cover \n",
    "function find_complements(neg_vertex_idxes :: Vector{Int}; silent=true)\n",
    "    @assert issorted(neg_vertex_idxes)    \n",
    "    neg_components = sparse_points[neg_vertex_idxes, :]'\n",
    "    neg_sum = SparseArrays.sparse(sum(neg_components, dims = 2))[:, 1]\n",
    "\n",
    "    # Let N be the number of standard EPs that haven't been fixed to -1, and\n",
    "    # p_i be those standard standard EPs. \n",
    "    # In principle, we want to solve the following optimization problem:\n",
    "    #\n",
    "    # Integer variables α_i , i ∈ [1, m! - length(neg_vertex_idxes)]\n",
    "    #\n",
    "    # minimize ∑ α_i\n",
    "    # s.t. \n",
    "    #     α >= 0\n",
    "    #     ∑ α_i p_i >= neg_sum\n",
    "    #\n",
    "    #\n",
    "    # But for efficiency reasons, since the standard EPs are very sparse,\n",
    "    # instead of using full points we only look at the columns in which neg_sum is nonempty.\n",
    "\n",
    "    nonzero_column_indices = findall(x -> x > 0, neg_sum)\n",
    "\n",
    "    neg_index_mask = zeros(Bool, factorial(NUM_VERTS-1))\n",
    "    neg_index_mask[neg_vertex_idxes] .= true\n",
    "\n",
    "    reduced_candidate_points = sparse_points[.~(neg_index_mask), :][:, nonzero_column_indices]\n",
    "\n",
    "    # here we define the actual optimization problem\n",
    "    assignments = Convex.Variable(factorial(NUM_VERTS-1)-length(neg_vertex_idxes), Convex.IntVar)\n",
    "    constraints = [\n",
    "        assignments >= 0,\n",
    "        reduced_candidate_points' * assignments >= neg_sum[nonzero_column_indices]\n",
    "    ]\n",
    "    problem = Convex.minimize(sum(assignments), constraints)\n",
    "    Convex.solve!(problem, SCIP.Optimizer; silent_solver=silent)\n",
    "    write_convex_jl_model_to_file(problem, \"output/set_cover.lp\")\n",
    "\n",
    "    # now, some bookkeeping to form the α vector with both positive and negative coefficients\n",
    "    assignmet_value = Convex.evaluate(assignments)\n",
    "    for (neg_idx, offset) in zip(neg_vertex_idxes, 0:length(neg_vertex_idxes)-1)\n",
    "        insert!(assignmet_value, neg_idx, -1)\n",
    "    end\n",
    "\n",
    "    assignment_value_norm = round.(assignmet_value)\n",
    "    assignment_value_norm /= sum(assignment_value_norm)\n",
    "\n",
    "    write(\"output/weights_of_new_point.txt\", repr(sparse(assignment_value_norm)))\n",
    "    \n",
    "    res_point = sparse_points' * assignment_value_norm\n",
    "\n",
    "    @assert norm(A * res_point .- b) < 1e-9 \"Not feasive\"\n",
    "    @assert all(res_point .>= -1e-9) \"Not nonnegative\"\n",
    "    @assert rank(A[:, res_point .> 1e-9]) == sum(res_point .> 1e-9; init=0) \"Not a basis solution\"\n",
    "    \n",
    "    sparse(assignment_value_norm), sparse(res_point)\n",
    "end"
   ]
  },
  {
   "cell_type": "code",
   "execution_count": null,
   "metadata": {},
   "outputs": [],
   "source": [
    "# Now, we can choose which standard EPs to fix to -1. Choosing just one EP, e.g. point 1, produces a non-integral extreme point.\n",
    "alpha_values, nonint_ep = find_complements([1]; silent=true)\n",
    "@assert sum(alpha_values) ≈ 1.0\n",
    "nonint_ep\n"
   ]
  },
  {
   "cell_type": "code",
   "execution_count": null,
   "metadata": {},
   "outputs": [],
   "source": [
    "# In fact, sometimes fixing more than one standard EP to -1 gives a new non-integral EP:\n",
    "_, res_point_extra = find_complements([22, 44]; silent=true)\n",
    "res_point_extra"
   ]
  },
  {
   "cell_type": "code",
   "execution_count": null,
   "metadata": {},
   "outputs": [],
   "source": [
    "# But other times it doesn't produce an extreme point: either there's no way to cover the fixed-negative vectors,\n",
    "# or we still get a feasible point but it's not a vertex of the polytope.\n",
    "find_complements([1, 2]; silent=true)\n",
    "\n"
   ]
  },
  {
   "cell_type": "code",
   "execution_count": null,
   "metadata": {},
   "outputs": [],
   "source": [
    "# Anyway, to double-check our work, we construct an objective function for the original LP for which the optimal point is attained at our new non-integral EP.\n",
    "# In this case, we can just set the objective c = -res_point . (In some cases this doesn't work and we need to solve an extra LP, exposition for that case is TODO)\n",
    "\n",
    "x = Convex.Variable(length(nonint_ep))\n",
    "problem = Convex.minimize(\n",
    "    -nonint_ep' * x,\n",
    "    [\n",
    "        A * x == b,\n",
    "        x >= 0\n",
    "    ]    \n",
    ")\n",
    "Convex.solve!(problem, SCIP.Optimizer)\n",
    "solution = round.(sparse(Convex.evaluate(x)); digits=9)\n",
    "\n",
    "# And indeed, we see that the optimal value is attained at a non-integral point\n"
   ]
  },
  {
   "cell_type": "code",
   "execution_count": null,
   "metadata": {},
   "outputs": [],
   "source": [
    "# Finally, we can write an objective function with the old variable names:\n",
    "\n",
    "obj_string = let\n",
    "    format_num_name_to_string(name, num) = begin\n",
    "        sign = num < 0 ? \"\" : \"+\"\n",
    "        \"$sign $num $name\"\n",
    "    end \n",
    "    parts = @pipe zip(var_names, -nonint_ep) |> collect |> filter(x -> x[2] != 0) |> map(x -> format_num_name_to_string(x...), _)\n",
    "    reduce(*, parts)\n",
    "end\n",
    "write(\"output/obj_function_for_nonintegral_sln.txt\", \"Minimize\\n  obj: $obj_string\")"
   ]
  },
  {
   "cell_type": "code",
   "execution_count": null,
   "metadata": {},
   "outputs": [],
   "source": []
  }
 ],
 "metadata": {
  "kernelspec": {
   "display_name": "Julia 1.9.1",
   "language": "julia",
   "name": "julia-1.9"
  },
  "language_info": {
   "file_extension": ".jl",
   "mimetype": "application/julia",
   "name": "julia",
   "version": "1.9.1"
  },
  "orig_nbformat": 4
 },
 "nbformat": 4,
 "nbformat_minor": 2
}
